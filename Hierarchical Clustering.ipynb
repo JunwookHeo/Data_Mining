{
 "cells": [
  {
   "cell_type": "markdown",
   "metadata": {},
   "source": [
    "## Hierarchical Clustering"
   ]
  },
  {
   "cell_type": "code",
   "execution_count": 3,
   "metadata": {},
   "outputs": [
    {
     "data": {
      "image/png": "[encoded data removed]",
      "text/plain": [
       "<Figure size 432x288 with 1 Axes>"
      ]
     },
     "metadata": {
      "needs_background": "light"
     },
     "output_type": "display_data"
    }
   ],
   "source": [
    "%matplotlib inline\n",
    "\n",
    "import numpy as np\n",
    "\n",
    "from scipy.cluster.hierarchy import dendrogram, linkage\n",
    "from scipy.spatial.distance import squareform\n",
    "\n",
    "import matplotlib.pyplot as plt\n",
    "\n",
    "def d_matrix():\n",
    "    mat = np.array([\n",
    "        [ 0,  2, 12,  7, 10], \n",
    "        [ 2,  0,  1,  6,  4], \n",
    "        [12,  1,  0,  8,  9],\n",
    "        [ 7,  6,  8,  0, 11],\n",
    "        [10,  4,  9, 11,  0]\n",
    "        ])\n",
    "\n",
    "\n",
    "\n",
    "    label=[\"I1\", \"I2\", \"I3\", \"I4\", \"I5\"]\n",
    "\n",
    "    m = ['single', 'complete', 'average']\n",
    "\n",
    "    dists = squareform(mat)\n",
    "    linkage_matrix = linkage(dists, method=m[0])\n",
    "    dendrogram(linkage_matrix, labels=label)\n",
    "    plt.title(\"Hierarchical Clustering\")\n",
    "    plt.show()\n",
    "\n",
    "d_matrix()\n",
    "\n",
    "\n"
   ]
  },
  {
   "cell_type": "code",
   "execution_count": 4,
   "metadata": {},
   "outputs": [
    {
     "data": {
      "image/png": "[encoded data removed]",
      "text/plain": [
       "<Figure size 432x288 with 1 Axes>"
      ]
     },
     "metadata": {
      "needs_background": "light"
     },
     "output_type": "display_data"
    }
   ],
   "source": [
    "def points():\n",
    "    from scipy.cluster.hierarchy import dendrogram, linkage\n",
    "    from matplotlib import pyplot as plt\n",
    "    X = [\n",
    "            [1], [3], [8], [16], [24], [36], [46]\n",
    "           ]\n",
    "\n",
    "    l = (str(X)[1:-1]).split()\n",
    "    \n",
    "    m = ['single', 'complete', 'average']\n",
    "    Z = linkage(X, method=m[2])\n",
    "    dn = dendrogram(Z, labels=l)\n",
    "    plt.title(\"Hierarchical Clustering\")\n",
    "    plt.show()\n",
    "\n",
    "points()"
   ]
  },
  {
   "cell_type": "code",
   "execution_count": null,
   "metadata": {},
   "outputs": [],
   "source": []
  }
 ],
 "metadata": {
  "kernelspec": {
   "display_name": "Python 3",
   "language": "python",
   "name": "python3"
  },
  "language_info": {
   "codemirror_mode": {
    "name": "ipython",
    "version": 3
   },
   "file_extension": ".py",
   "mimetype": "text/x-python",
   "name": "python",
   "nbconvert_exporter": "python",
   "pygments_lexer": "ipython3",
   "version": "3.7.3"
  }
 },
 "nbformat": 4,
 "nbformat_minor": 2
}
